{
 "cells": [
  {
   "cell_type": "code",
   "execution_count": 5,
   "metadata": {},
   "outputs": [
    {
     "data": {
      "text/plain": [
       "('b', 'it')"
      ]
     },
     "execution_count": 5,
     "metadata": {},
     "output_type": "execute_result"
    }
   ],
   "source": [
    "word1 = 'bit'\n",
    "\n",
    "word1[0], word1[1:]"
   ]
  },
  {
   "cell_type": "code",
   "execution_count": 6,
   "metadata": {},
   "outputs": [
    {
     "data": {
      "text/plain": [
       "('s', 'et')"
      ]
     },
     "execution_count": 6,
     "metadata": {},
     "output_type": "execute_result"
    }
   ],
   "source": [
    "word2 = 'set'\n",
    "\n",
    "word2[0], word2[1:]"
   ]
  },
  {
   "cell_type": "code",
   "execution_count": 7,
   "metadata": {},
   "outputs": [
    {
     "name": "stdout",
     "output_type": "stream",
     "text": [
      "sit bet\n"
     ]
    }
   ],
   "source": [
    "word1 = 'bit'\n",
    "word2 = 'set'\n",
    "\n",
    "first_char1 = word1[0]\n",
    "first_char2 = word2[0]\n",
    "\n",
    "new_word1 = first_char2 + word1[1:]\n",
    "new_word2 = first_char1 + word2[1:]\n",
    "\n",
    "print(f'{new_word1} {new_word2}')"
   ]
  },
  {
   "cell_type": "code",
   "execution_count": 8,
   "metadata": {},
   "outputs": [
    {
     "name": "stdout",
     "output_type": "stream",
     "text": [
      "sit bet\n"
     ]
    }
   ],
   "source": [
    "word1 = 'bit'\n",
    "word2 = 'set'\n",
    "\n",
    "new_word1 = word2[0] + word1[1:]\n",
    "new_word2 = word1[0] + word2[1:]\n",
    "\n",
    "print(f'{new_word1} {new_word2}')"
   ]
  },
  {
   "cell_type": "code",
   "execution_count": 10,
   "metadata": {},
   "outputs": [
    {
     "name": "stdout",
     "output_type": "stream",
     "text": [
      "102\n"
     ]
    }
   ],
   "source": [
    "n = 100\n",
    "\n",
    "x = 2\n",
    "sum = 0\n",
    "while sum <= n:\n",
    "  sum += x\n",
    "print(sum)"
   ]
  },
  {
   "cell_type": "code",
   "execution_count": 12,
   "metadata": {},
   "outputs": [
    {
     "name": "stdout",
     "output_type": "stream",
     "text": [
      "102\n"
     ]
    }
   ],
   "source": [
    "n = 100\n",
    "\n",
    "x = 3\n",
    "sum = 0\n",
    "while sum <= n:\n",
    "  sum += x\n",
    "print(sum)"
   ]
  },
  {
   "cell_type": "code",
   "execution_count": 21,
   "metadata": {},
   "outputs": [
    {
     "name": "stdout",
     "output_type": "stream",
     "text": [
      "9\n",
      "9\n",
      "9\n",
      "9\n",
      "9\n",
      "9\n",
      "9\n",
      "9\n",
      "9\n",
      "9\n",
      "9\n",
      "9\n",
      "108\n"
     ]
    }
   ],
   "source": [
    "n = 100\n",
    "\n",
    "x = 9\n",
    "sum = 0\n",
    "while sum <= n:\n",
    "  sum += x\n",
    "  print(x)\n",
    "print(sum)"
   ]
  },
  {
   "cell_type": "code",
   "execution_count": 24,
   "metadata": {},
   "outputs": [
    {
     "name": "stdout",
     "output_type": "stream",
     "text": [
      "110\n"
     ]
    }
   ],
   "source": [
    "n = 100\n",
    "x = 2\n",
    "\n",
    "i = 1\n",
    "sum = 0\n",
    "while sum <= n:\n",
    "  sum += x*i\n",
    "  i += 1\n",
    "print(sum)"
   ]
  },
  {
   "cell_type": "code",
   "execution_count": 28,
   "metadata": {},
   "outputs": [
    {
     "name": "stdout",
     "output_type": "stream",
     "text": [
      "5\n",
      "10\n",
      "15\n",
      "20\n",
      "25\n",
      "30\n",
      "105\n"
     ]
    }
   ],
   "source": [
    "n = 100\n",
    "x = 5\n",
    "\n",
    "i = 1\n",
    "sum = 0\n",
    "while sum <= n:\n",
    "  sum += x*i\n",
    "  print(x*i)\n",
    "  i += 1\n",
    "print(sum)"
   ]
  },
  {
   "cell_type": "code",
   "execution_count": 35,
   "metadata": {},
   "outputs": [
    {
     "name": "stdout",
     "output_type": "stream",
     "text": [
      "2550\n"
     ]
    }
   ],
   "source": [
    "n = 100\n",
    "x = 2\n",
    "\n",
    "kx = x\n",
    "sum = 0\n",
    "while kx <= n:\n",
    "  sum += kx\n",
    "  kx += x\n",
    "print(sum)"
   ]
  },
  {
   "cell_type": "code",
   "execution_count": 40,
   "metadata": {},
   "outputs": [
    {
     "name": "stdout",
     "output_type": "stream",
     "text": [
      "100\n"
     ]
    }
   ],
   "source": [
    "n = 100\n",
    "x = 100\n",
    "\n",
    "kx = x\n",
    "sum = 0\n",
    "while kx <= n:\n",
    "  sum += kx\n",
    "  kx += x\n",
    "print(sum)"
   ]
  },
  {
   "cell_type": "code",
   "execution_count": 44,
   "metadata": {},
   "outputs": [
    {
     "name": "stdout",
     "output_type": "stream",
     "text": [
      "n=2, sum2 > sum3=True\n",
      "n=3, sum2 > sum3=False\n",
      "n=4, sum2 > sum3=True\n",
      "n=5, sum2 > sum3=True\n",
      "n=6, sum2 > sum3=True\n",
      "n=7, sum2 > sum3=True\n",
      "n=8, sum2 > sum3=True\n",
      "n=9, sum2 > sum3=True\n",
      "n=10, sum2 > sum3=True\n",
      "n=11, sum2 > sum3=True\n",
      "n=12, sum2 > sum3=True\n",
      "n=13, sum2 > sum3=True\n",
      "n=14, sum2 > sum3=True\n",
      "n=15, sum2 > sum3=True\n",
      "n=16, sum2 > sum3=True\n",
      "n=17, sum2 > sum3=True\n",
      "n=18, sum2 > sum3=True\n",
      "n=19, sum2 > sum3=True\n",
      "n=20, sum2 > sum3=True\n",
      "n=21, sum2 > sum3=True\n",
      "n=22, sum2 > sum3=True\n",
      "n=23, sum2 > sum3=True\n",
      "n=24, sum2 > sum3=True\n",
      "n=25, sum2 > sum3=True\n",
      "n=26, sum2 > sum3=True\n",
      "n=27, sum2 > sum3=True\n",
      "n=28, sum2 > sum3=True\n",
      "n=29, sum2 > sum3=True\n",
      "n=30, sum2 > sum3=True\n",
      "n=31, sum2 > sum3=True\n",
      "n=32, sum2 > sum3=True\n",
      "n=33, sum2 > sum3=True\n",
      "n=34, sum2 > sum3=True\n",
      "n=35, sum2 > sum3=True\n",
      "n=36, sum2 > sum3=True\n",
      "n=37, sum2 > sum3=True\n",
      "n=38, sum2 > sum3=True\n",
      "n=39, sum2 > sum3=True\n",
      "n=40, sum2 > sum3=True\n",
      "n=41, sum2 > sum3=True\n",
      "n=42, sum2 > sum3=True\n",
      "n=43, sum2 > sum3=True\n",
      "n=44, sum2 > sum3=True\n",
      "n=45, sum2 > sum3=True\n",
      "n=46, sum2 > sum3=True\n",
      "n=47, sum2 > sum3=True\n",
      "n=48, sum2 > sum3=True\n",
      "n=49, sum2 > sum3=True\n",
      "n=50, sum2 > sum3=True\n",
      "n=51, sum2 > sum3=True\n",
      "n=52, sum2 > sum3=True\n",
      "n=53, sum2 > sum3=True\n",
      "n=54, sum2 > sum3=True\n",
      "n=55, sum2 > sum3=True\n",
      "n=56, sum2 > sum3=True\n",
      "n=57, sum2 > sum3=True\n",
      "n=58, sum2 > sum3=True\n",
      "n=59, sum2 > sum3=True\n",
      "n=60, sum2 > sum3=True\n",
      "n=61, sum2 > sum3=True\n",
      "n=62, sum2 > sum3=True\n",
      "n=63, sum2 > sum3=True\n",
      "n=64, sum2 > sum3=True\n",
      "n=65, sum2 > sum3=True\n",
      "n=66, sum2 > sum3=True\n",
      "n=67, sum2 > sum3=True\n",
      "n=68, sum2 > sum3=True\n",
      "n=69, sum2 > sum3=True\n",
      "n=70, sum2 > sum3=True\n",
      "n=71, sum2 > sum3=True\n",
      "n=72, sum2 > sum3=True\n",
      "n=73, sum2 > sum3=True\n",
      "n=74, sum2 > sum3=True\n",
      "n=75, sum2 > sum3=True\n",
      "n=76, sum2 > sum3=True\n",
      "n=77, sum2 > sum3=True\n",
      "n=78, sum2 > sum3=True\n",
      "n=79, sum2 > sum3=True\n",
      "n=80, sum2 > sum3=True\n",
      "n=81, sum2 > sum3=True\n",
      "n=82, sum2 > sum3=True\n",
      "n=83, sum2 > sum3=True\n",
      "n=84, sum2 > sum3=True\n",
      "n=85, sum2 > sum3=True\n",
      "n=86, sum2 > sum3=True\n",
      "n=87, sum2 > sum3=True\n",
      "n=88, sum2 > sum3=True\n",
      "n=89, sum2 > sum3=True\n",
      "n=90, sum2 > sum3=True\n",
      "n=91, sum2 > sum3=True\n",
      "n=92, sum2 > sum3=True\n",
      "n=93, sum2 > sum3=True\n",
      "n=94, sum2 > sum3=True\n",
      "n=95, sum2 > sum3=True\n",
      "n=96, sum2 > sum3=True\n",
      "n=97, sum2 > sum3=True\n",
      "n=98, sum2 > sum3=True\n",
      "n=99, sum2 > sum3=True\n",
      "n=100, sum2 > sum3=True\n"
     ]
    }
   ],
   "source": [
    "for n in range(2, 101):\n",
    "  x = 2\n",
    "  kx = x\n",
    "  sum2 = 0\n",
    "  while kx <= n:\n",
    "    sum2 += kx\n",
    "    kx += x\n",
    "\n",
    "  x = 3\n",
    "  kx = x\n",
    "  sum3 = 0\n",
    "  while kx <= n:\n",
    "    sum3 += kx\n",
    "    kx += x\n",
    "  print(f'{n=}, {sum2 > sum3=}')"
   ]
  },
  {
   "cell_type": "code",
   "execution_count": 1,
   "metadata": {},
   "outputs": [
    {
     "name": "stdout",
     "output_type": "stream",
     "text": [
      "[5, 3, 1, 10, 12, 9]\n",
      "[3, 1, 10, 12, 9]\n",
      "[1, 10, 12, 9]\n",
      "[10, 12, 9]\n",
      "[12, 9]\n",
      "[9]\n"
     ]
    }
   ],
   "source": [
    "# step 1: get all prefixes\n",
    "array = [5, 3, 1, 10, 12, 9]\n",
    "\n",
    "for i in range(len(array)):\n",
    "  print(array[i:])"
   ]
  },
  {
   "cell_type": "code",
   "execution_count": 12,
   "metadata": {},
   "outputs": [
    {
     "name": "stdout",
     "output_type": "stream",
     "text": [
      "yes its good\n"
     ]
    }
   ],
   "source": [
    "# step 2: check if a prefix is good?\n",
    "prefix = [0, 1, 2, 1, 4]\n",
    "prefix_sum = sum(prefix)\n",
    "\n",
    "for x in prefix:\n",
    "  if prefix_sum - x == x:\n",
    "    print('yes its good')\n",
    "    break"
   ]
  },
  {
   "cell_type": "code",
   "execution_count": 24,
   "metadata": {},
   "outputs": [
    {
     "name": "stdout",
     "output_type": "stream",
     "text": [
      "3\n"
     ]
    }
   ],
   "source": [
    "# step 1+2: final solution\n",
    "array = [0, 1, 2, 1, 4]\n",
    "n = len(array)\n",
    "\n",
    "\n",
    "def check_good(prefix):\n",
    "  prefix_sum = sum(prefix)\n",
    "  for x in prefix:\n",
    "    if prefix_sum - x == x:\n",
    "      return True\n",
    "  return False\n",
    "\n",
    "\n",
    "ans = 0\n",
    "for i in range(n):\n",
    "  prefix = array[:i+1]\n",
    "  if check_good(prefix):\n",
    "    ans += 1\n",
    "\n",
    "print(ans)"
   ]
  },
  {
   "cell_type": "code",
   "execution_count": 9,
   "metadata": {},
   "outputs": [
    {
     "name": "stdout",
     "output_type": "stream",
     "text": [
      "0 False\n",
      "1 False\n",
      "2 False\n",
      "1 False\n",
      "4 True\n"
     ]
    }
   ],
   "source": [
    "# step 2: check if a prefix is good?\n",
    "prefix = [0, 1, 2, 1, 4]\n",
    "prefix_sum = sum(prefix)\n",
    "\n",
    "for x in prefix:\n",
    "  print(x, prefix_sum - x == x)"
   ]
  },
  {
   "cell_type": "code",
   "execution_count": 2,
   "metadata": {},
   "outputs": [
    {
     "data": {
      "text/plain": [
       "32"
      ]
     },
     "execution_count": 2,
     "metadata": {},
     "output_type": "execute_result"
    }
   ],
   "source": [
    "# step 2: check if a prefix is good?\n",
    "prefix = [1, 10, 12, 9]\n",
    "prefix_sum = sum(prefix)\n",
    "\n",
    "# (prefix_sum - 1 = 31) == 1? NO\n",
    "# (prefix_sum - 10 = 21) == 10? NO\n",
    "# (prefix_sum - 12 = 20) == 12? NO\n",
    "# (prefix_sum - 9 = 23) == 9? NO\n",
    "\n",
    "# Not a good prefix"
   ]
  },
  {
   "cell_type": "code",
   "execution_count": 4,
   "metadata": {},
   "outputs": [
    {
     "data": {
      "text/plain": [
       "8"
      ]
     },
     "execution_count": 4,
     "metadata": {},
     "output_type": "execute_result"
    }
   ],
   "source": [
    "prefix = [0, 1, 2, 1, 4]\n",
    "prefix_sum = sum(prefix)\n",
    "\n",
    "# (prefix_sum - 0 = 8) == 0? NO\n",
    "# (prefix_sum - 1 = 7) == 1? NO\n",
    "# (prefix_sum - 2 = 6) == 2? NO\n",
    "# (prefix_sum - 4 = 4) == 4? YES\n",
    "\n",
    "# YES, its a good prefix"
   ]
  }
 ],
 "metadata": {
  "kernelspec": {
   "display_name": "Python 3",
   "language": "python",
   "name": "python3"
  },
  "language_info": {
   "codemirror_mode": {
    "name": "ipython",
    "version": 3
   },
   "file_extension": ".py",
   "mimetype": "text/x-python",
   "name": "python",
   "nbconvert_exporter": "python",
   "pygments_lexer": "ipython3",
   "version": "3.12.0"
  }
 },
 "nbformat": 4,
 "nbformat_minor": 2
}
