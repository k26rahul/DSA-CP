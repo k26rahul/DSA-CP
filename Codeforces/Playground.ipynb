{
 "cells": [
  {
   "cell_type": "code",
   "execution_count": 43,
   "metadata": {},
   "outputs": [],
   "source": [
    "index = ord('B') - 65 + 1"
   ]
  },
  {
   "cell_type": "code",
   "execution_count": 44,
   "metadata": {},
   "outputs": [],
   "source": [
    "# [0, A, B, C...]\n",
    "# [0, 1, 2, 3...]\n",
    "\n",
    "spent = [0] * 27"
   ]
  },
  {
   "cell_type": "code",
   "execution_count": 55,
   "metadata": {},
   "outputs": [
    {
     "name": "stdout",
     "output_type": "stream",
     "text": [
      "11\n"
     ]
    }
   ],
   "source": [
    "solved = 0\n",
    "spent = [0] * 27\n",
    "\n",
    "log = 'ACBCBCCCCCCCCC'\n",
    "# log = 'FEADBBDFFEDFFFDHHHADCC'\n",
    "for letter in log:\n",
    "  index = ord(letter) - 65 + 1\n",
    "\n",
    "  spent[index] += 1\n",
    "\n",
    "  # print(index)\n",
    "  # print(spent)\n",
    "\n",
    "  if spent[index] == index:\n",
    "    solved += 1\n",
    "\n",
    "print(solved)\n",
    "# print(spent)"
   ]
  }
 ],
 "metadata": {
  "kernelspec": {
   "display_name": "Python 3",
   "language": "python",
   "name": "python3"
  },
  "language_info": {
   "codemirror_mode": {
    "name": "ipython",
    "version": 3
   },
   "file_extension": ".py",
   "mimetype": "text/x-python",
   "name": "python",
   "nbconvert_exporter": "python",
   "pygments_lexer": "ipython3",
   "version": "3.12.0"
  }
 },
 "nbformat": 4,
 "nbformat_minor": 2
}
