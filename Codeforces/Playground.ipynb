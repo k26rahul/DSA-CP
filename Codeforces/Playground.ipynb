{
 "cells": [
  {
   "cell_type": "code",
   "execution_count": 9,
   "metadata": {},
   "outputs": [
    {
     "data": {
      "text/plain": [
       "3"
      ]
     },
     "execution_count": 9,
     "metadata": {},
     "output_type": "execute_result"
    },
    {
     "data": {
      "text/plain": [
       "4"
      ]
     },
     "execution_count": 9,
     "metadata": {},
     "output_type": "execute_result"
    }
   ],
   "source": [
    "word = 'apple'\n",
    "\n",
    "lst = list(set(word))\n",
    "letter1 = lst[0]\n",
    "letter2 = lst[1]\n",
    "\n",
    "word.index(letter1)\n",
    "word.index(letter2)"
   ]
  },
  {
   "cell_type": "code",
   "execution_count": 14,
   "metadata": {},
   "outputs": [
    {
     "data": {
      "text/plain": [
       "'paple'"
      ]
     },
     "execution_count": 14,
     "metadata": {},
     "output_type": "execute_result"
    }
   ],
   "source": [
    "word = 'apple'\n",
    "word_list = list(word)\n",
    "\n",
    "letters = list(set(word_list))\n",
    "letters[0], letters[1] = letters[1], letters[0]\n",
    "\n",
    "''.join(lst)"
   ]
  },
  {
   "cell_type": "code",
   "execution_count": 28,
   "metadata": {},
   "outputs": [
    {
     "name": "stdout",
     "output_type": "stream",
     "text": [
      "apple\n",
      "appel\n"
     ]
    }
   ],
   "source": [
    "word = 'apple'\n",
    "letters = list(word)\n",
    "unique_letters = list(set(letters))\n",
    "\n",
    "index1 = letters.index(unique_letters[0])\n",
    "index2 = letters.index(unique_letters[1])\n",
    "\n",
    "letters[index1], letters[index2] = letters[index2], letters[index1]\n",
    "\n",
    "new_word = ''.join(letters)\n",
    "\n",
    "print(word)\n",
    "print(new_word)"
   ]
  },
  {
   "cell_type": "code",
   "execution_count": 14,
   "metadata": {},
   "outputs": [
    {
     "name": "stdout",
     "output_type": "stream",
     "text": [
      "group1=[12, 1, 2, 6, 7, 8, 9, 10, 11]\n",
      "group2=[4]\n",
      "YES\n"
     ]
    }
   ],
   "source": [
    "a, b, c, d = 5, 3, 4, 12\n",
    "\n",
    "clock = [12, 1, 2, 3, 4, 5, 6, 7, 8, 9, 10, 11]\n",
    "group1 = []\n",
    "group2 = []\n",
    "\n",
    "\n",
    "where_to_put = 1\n",
    "for number in clock:\n",
    "  if number == a or number == b:\n",
    "    if where_to_put == 1:\n",
    "      where_to_put = 2\n",
    "    else:\n",
    "      where_to_put = 1\n",
    "    continue\n",
    "\n",
    "  if where_to_put == 1:\n",
    "    group1.append(number)\n",
    "  else:\n",
    "    group2.append(number)\n",
    "\n",
    "print(f'{group1=}')\n",
    "print(f'{group2=}')\n",
    "\n",
    "if c in group1 and d in group2:\n",
    "  print('YES')\n",
    "elif d in group1 and c in group2:\n",
    "  print('YES')\n",
    "else:\n",
    "  print('NO')"
   ]
  },
  {
   "cell_type": "markdown",
   "metadata": {},
   "source": [
    "11111001100000100111\n",
    "\n",
    "11111 00 11 000001 00 111\n",
    "\n",
    "00 00000 0011 11111 111 1"
   ]
  }
 ],
 "metadata": {
  "kernelspec": {
   "display_name": "Python 3",
   "language": "python",
   "name": "python3"
  },
  "language_info": {
   "codemirror_mode": {
    "name": "ipython",
    "version": 3
   },
   "file_extension": ".py",
   "mimetype": "text/x-python",
   "name": "python",
   "nbconvert_exporter": "python",
   "pygments_lexer": "ipython3",
   "version": "3.12.0"
  }
 },
 "nbformat": 4,
 "nbformat_minor": 2
}
