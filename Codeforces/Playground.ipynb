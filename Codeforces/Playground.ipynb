{
 "cells": [
  {
   "cell_type": "code",
   "execution_count": 3,
   "metadata": {},
   "outputs": [
    {
     "data": {
      "text/plain": [
       "256"
      ]
     },
     "execution_count": 3,
     "metadata": {},
     "output_type": "execute_result"
    }
   ],
   "source": [
    "cache = dict()\n",
    "\n",
    "\n",
    "def solve(str):\n",
    "  if len(str) == 2:\n",
    "    return 2\n",
    "\n",
    "  if str in cache:\n",
    "    return cache[str]\n",
    "\n",
    "  ans = solve(str[1:]) * solve(str[:-1])\n",
    "  cache[str] = ans\n",
    "  return ans\n",
    "\n",
    "\n",
    "solve('ababa')"
   ]
  }
 ],
 "metadata": {
  "kernelspec": {
   "display_name": "Python 3",
   "language": "python",
   "name": "python3"
  },
  "language_info": {
   "codemirror_mode": {
    "name": "ipython",
    "version": 3
   },
   "file_extension": ".py",
   "mimetype": "text/x-python",
   "name": "python",
   "nbconvert_exporter": "python",
   "pygments_lexer": "ipython3",
   "version": "3.12.0"
  }
 },
 "nbformat": 4,
 "nbformat_minor": 2
}
