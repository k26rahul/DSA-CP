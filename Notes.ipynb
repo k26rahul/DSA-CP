{
 "cells": [
  {
   "cell_type": "markdown",
   "metadata": {},
   "source": [
    "# Bitwise operations\n",
    "\n",
    "**1. Binary Right Shift for Division by 2**\n",
    "\n",
    "- To divide a binary number by 2, right-shift all bits by 1 place.\n",
    "  ```python\n",
    "  num = num >> 1\n",
    "  ```\n",
    "\n",
    "**2. Identifying Odd Binary Numbers**\n",
    "\n",
    "- All odd binary numbers have '1' in the rightmost place.\n",
    "  ```python\n",
    "  is_odd = num & 1 # bitmasking\n",
    "  ```\n",
    "\n",
    "**3. Logical Bitwise Operators**\n",
    "\n",
    "- **AND (`&`):** Returns 1 only if both bits are 1.\n",
    "  ```python\n",
    "  result = a & b\n",
    "  ```\n",
    "\n",
    "- **OR (`|`):** Returns 1 if at least one bit is 1.\n",
    "  ```python\n",
    "  result = a | b\n",
    "  ```\n",
    "\n",
    "- **XOR (`^`):** Returns 1 if exactly one bit is 1.\n",
    "  ```python\n",
    "  result = a ^ b\n",
    "  ```\n",
    "\n",
    "- **NOT (`~`):** Flips the bits (1 becomes 0 and vice versa).\n",
    "  ```python\n",
    "  result = ~a\n",
    "  ```\n",
    "\n",
    "**4. Logical Boolean Operators**\n",
    "\n",
    "- **AND (`&&`):** Logical AND for boolean values.\n",
    "  ```python\n",
    "  result = bool_a and bool_b\n",
    "  ```\n",
    "\n",
    "- **OR (`||`):** Logical OR for boolean values.\n",
    "  ```python\n",
    "  result = bool_a or bool_b\n",
    "  ```\n",
    "\n",
    "- **No (XOR):** Exclusive OR, returns true if values are different.\n",
    "  ```python\n",
    "  result = bool_a != bool_b\n",
    "  ```\n",
    "\n",
    "- **NOT (`!`):** Logical NOT, flips the boolean value.\n",
    "  ```python\n",
    "  result = not bool_a\n",
    "  ```"
   ]
  },
  {
   "cell_type": "markdown",
   "metadata": {},
   "source": [
    "Math API: LaTeX Math as SVG image\n",
    "\n",
    "https://math.vercel.app/?from=\\log\\prod^N_{i}x_{i}=\\sum^N_i\\log{x_i}"
   ]
  }
 ],
 "metadata": {
  "kernelspec": {
   "display_name": "Python 3",
   "language": "python",
   "name": "python3"
  },
  "language_info": {
   "codemirror_mode": {
    "name": "ipython",
    "version": 3
   },
   "file_extension": ".py",
   "mimetype": "text/x-python",
   "name": "python",
   "nbconvert_exporter": "python",
   "pygments_lexer": "ipython3",
   "version": "3.12.0"
  }
 },
 "nbformat": 4,
 "nbformat_minor": 2
}
